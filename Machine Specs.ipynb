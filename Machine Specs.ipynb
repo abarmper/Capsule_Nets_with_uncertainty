{
 "cells": [
  {
   "cell_type": "markdown",
   "id": "arbitrary-manual",
   "metadata": {},
   "source": [
    "## Machine State"
   ]
  },
  {
   "cell_type": "markdown",
   "id": "moved-patient",
   "metadata": {},
   "source": [
    "### Machine os Version"
   ]
  },
  {
   "cell_type": "code",
   "execution_count": 1,
   "id": "together-context",
   "metadata": {},
   "outputs": [],
   "source": [
    "import os\n",
    "name = os.name\n",
    "\n",
    "import platform\n",
    "system = platform.system()\n",
    "\n",
    "release = platform.release()\n",
    "verse = platform.version()"
   ]
  },
  {
   "cell_type": "code",
   "execution_count": 8,
   "id": "apparent-header",
   "metadata": {},
   "outputs": [
    {
     "name": "stdout",
     "output_type": "stream",
     "text": [
      "platform: Linux\n",
      "release: 5.15.0-48-generic\n",
      "version: #54~20.04.1-Ubuntu SMP Thu Sep 1 16:17:26 UTC 2022\n"
     ]
    }
   ],
   "source": [
    "print(f'platform: {system}\\nrelease: {release}\\nversion: {verse}')"
   ]
  },
  {
   "cell_type": "markdown",
   "id": "continental-train",
   "metadata": {},
   "source": [
    "### Tensorflow Specific & CUDA"
   ]
  },
  {
   "cell_type": "code",
   "execution_count": 2,
   "id": "deluxe-onion",
   "metadata": {},
   "outputs": [
    {
     "name": "stdout",
     "output_type": "stream",
     "text": [
      "CUDA version:  11.0\n"
     ]
    }
   ],
   "source": [
    "import tensorflow as tf\n",
    "os.environ['TF_FORCE_GPU_ALLOW_GROWTH'] = 'true'\n",
    "sys_details = tf.sysconfig.get_build_info()\n",
    "cuda_version = sys_details[\"cuda_version\"]\n",
    "print('CUDA version: ', cuda_version)"
   ]
  },
  {
   "cell_type": "code",
   "execution_count": 12,
   "id": "civil-pakistan",
   "metadata": {},
   "outputs": [
    {
     "name": "stdout",
     "output_type": "stream",
     "text": [
      "cudnn version:  8\n"
     ]
    }
   ],
   "source": [
    "cudnn_version = sys_details[\"cudnn_version\"]  \n",
    "print('cudnn version: ', cudnn_version)"
   ]
  },
  {
   "cell_type": "code",
   "execution_count": 14,
   "id": "smart-bicycle",
   "metadata": {},
   "outputs": [
    {
     "name": "stdout",
     "output_type": "stream",
     "text": [
      "cpu compiler:  /usr/bin/gcc-5\n"
     ]
    }
   ],
   "source": [
    "cpu_compiler = sys_details[\"cpu_compiler\"]  \n",
    "print('cpu compiler: ', cpu_compiler)"
   ]
  },
  {
   "cell_type": "code",
   "execution_count": 15,
   "id": "pointed-match",
   "metadata": {},
   "outputs": [
    {
     "name": "stdout",
     "output_type": "stream",
     "text": [
      "Compute capabilities:  ['sm_35', 'sm_50', 'sm_60', 'sm_70', 'sm_75', 'compute_80']\n"
     ]
    }
   ],
   "source": [
    "cuda_compute_capabilities = sys_details[\"cuda_compute_capabilities\"]  \n",
    "print('Compute capabilities: ', cuda_compute_capabilities)"
   ]
  },
  {
   "cell_type": "code",
   "execution_count": 16,
   "id": "coordinate-sustainability",
   "metadata": {},
   "outputs": [
    {
     "name": "stdout",
     "output_type": "stream",
     "text": [
      "Tensorflow version:  2.4.1\n"
     ]
    }
   ],
   "source": [
    "print('Tensorflow version: ', tf.__version__)"
   ]
  },
  {
   "cell_type": "markdown",
   "id": "handled-swift",
   "metadata": {},
   "source": [
    "### Pytorch version"
   ]
  },
  {
   "cell_type": "code",
   "execution_count": 17,
   "id": "distant-support",
   "metadata": {},
   "outputs": [
    {
     "name": "stdout",
     "output_type": "stream",
     "text": [
      "Pytorch version:  1.7.1+cu110\n"
     ]
    }
   ],
   "source": [
    "import torch, torchvision\n",
    "print('Pytorch version: ', torch.__version__)"
   ]
  },
  {
   "cell_type": "markdown",
   "id": "annoying-swimming",
   "metadata": {},
   "source": [
    "### AI - Benchmark"
   ]
  },
  {
   "cell_type": "code",
   "execution_count": 3,
   "id": "chronic-mistress",
   "metadata": {},
   "outputs": [
    {
     "name": "stdout",
     "output_type": "stream",
     "text": [
      "\n",
      ">>   AI-Benchmark-v.0.1.2   \n",
      ">>   Let the AI Games begin..\n",
      "\n",
      "*  TF Version: 2.4.1\n",
      "*  Platform: Linux-5.15.0-48-generic-x86_64-with-glibc2.29\n",
      "*  CPU: N/A\n",
      "*  CPU RAM: 16 GB\n",
      "\n",
      "The benchmark is running...\n",
      "The tests might take up to 20 minutes\n",
      "Please don't interrupt the script\n",
      "\n",
      "1/19. MobileNet-V2\n",
      "\n"
     ]
    },
    {
     "ename": "InternalError",
     "evalue": "CUDA runtime implicit initialization on GPU:0 failed. Status: out of memory",
     "output_type": "error",
     "traceback": [
      "\u001b[0;31m---------------------------------------------------------------------------\u001b[0m",
      "\u001b[0;31mInternalError\u001b[0m                             Traceback (most recent call last)",
      "\u001b[0;32m<ipython-input-3-eb3ed2f4b010>\u001b[0m in \u001b[0;36m<module>\u001b[0;34m\u001b[0m\n\u001b[1;32m      1\u001b[0m \u001b[0;32mfrom\u001b[0m \u001b[0mai_benchmark\u001b[0m \u001b[0;32mimport\u001b[0m \u001b[0mAIBenchmark\u001b[0m\u001b[0;34m\u001b[0m\u001b[0;34m\u001b[0m\u001b[0m\n\u001b[1;32m      2\u001b[0m \u001b[0mbenchmark\u001b[0m \u001b[0;34m=\u001b[0m \u001b[0mAIBenchmark\u001b[0m\u001b[0;34m(\u001b[0m\u001b[0;34m)\u001b[0m\u001b[0;34m\u001b[0m\u001b[0;34m\u001b[0m\u001b[0m\n\u001b[0;32m----> 3\u001b[0;31m \u001b[0mresults\u001b[0m \u001b[0;34m=\u001b[0m \u001b[0mbenchmark\u001b[0m\u001b[0;34m.\u001b[0m\u001b[0mrun\u001b[0m\u001b[0;34m(\u001b[0m\u001b[0;34m)\u001b[0m\u001b[0;34m\u001b[0m\u001b[0;34m\u001b[0m\u001b[0m\n\u001b[0m",
      "\u001b[0;32m~/Documents/Capsule_Nets_with_uncertainty/caps_vev/lib/python3.8/site-packages/ai_benchmark/__init__.py\u001b[0m in \u001b[0;36mrun\u001b[0;34m(self, precision)\u001b[0m\n\u001b[1;32m     61\u001b[0m \u001b[0;34m\u001b[0m\u001b[0m\n\u001b[1;32m     62\u001b[0m     \u001b[0;32mdef\u001b[0m \u001b[0mrun\u001b[0m\u001b[0;34m(\u001b[0m\u001b[0mself\u001b[0m\u001b[0;34m,\u001b[0m \u001b[0mprecision\u001b[0m\u001b[0;34m=\u001b[0m\u001b[0;34m\"normal\"\u001b[0m\u001b[0;34m)\u001b[0m\u001b[0;34m:\u001b[0m\u001b[0;34m\u001b[0m\u001b[0;34m\u001b[0m\u001b[0m\n\u001b[0;32m---> 63\u001b[0;31m         return run_tests(training=True, inference=True, micro=False, verbose=self.verbose,\n\u001b[0m\u001b[1;32m     64\u001b[0m                          use_CPU=self.use_CPU, precision=precision, _type=\"full\", start_dir=self.cwd)\n\u001b[1;32m     65\u001b[0m \u001b[0;34m\u001b[0m\u001b[0m\n",
      "\u001b[0;32m~/Documents/Capsule_Nets_with_uncertainty/caps_vev/lib/python3.8/site-packages/ai_benchmark/utils.py\u001b[0m in \u001b[0;36mrun_tests\u001b[0;34m(training, inference, micro, verbose, use_CPU, precision, _type, start_dir)\u001b[0m\n\u001b[1;32m    551\u001b[0m \u001b[0;34m\u001b[0m\u001b[0m\n\u001b[1;32m    552\u001b[0m         \u001b[0mtf\u001b[0m\u001b[0;34m.\u001b[0m\u001b[0mcompat\u001b[0m\u001b[0;34m.\u001b[0m\u001b[0mv1\u001b[0m\u001b[0;34m.\u001b[0m\u001b[0mreset_default_graph\u001b[0m\u001b[0;34m(\u001b[0m\u001b[0;34m)\u001b[0m \u001b[0;32mif\u001b[0m \u001b[0mtestInfo\u001b[0m\u001b[0;34m.\u001b[0m\u001b[0mtf_ver_2\u001b[0m \u001b[0;32melse\u001b[0m \u001b[0mtf\u001b[0m\u001b[0;34m.\u001b[0m\u001b[0mreset_default_graph\u001b[0m\u001b[0;34m(\u001b[0m\u001b[0;34m)\u001b[0m\u001b[0;34m\u001b[0m\u001b[0;34m\u001b[0m\u001b[0m\n\u001b[0;32m--> 553\u001b[0;31m         \u001b[0msession\u001b[0m \u001b[0;34m=\u001b[0m \u001b[0mtf\u001b[0m\u001b[0;34m.\u001b[0m\u001b[0mcompat\u001b[0m\u001b[0;34m.\u001b[0m\u001b[0mv1\u001b[0m\u001b[0;34m.\u001b[0m\u001b[0mSession\u001b[0m\u001b[0;34m(\u001b[0m\u001b[0mconfig\u001b[0m\u001b[0;34m=\u001b[0m\u001b[0mconfig\u001b[0m\u001b[0;34m)\u001b[0m \u001b[0;32mif\u001b[0m \u001b[0mtestInfo\u001b[0m\u001b[0;34m.\u001b[0m\u001b[0mtf_ver_2\u001b[0m \u001b[0;32melse\u001b[0m \u001b[0mtf\u001b[0m\u001b[0;34m.\u001b[0m\u001b[0mSession\u001b[0m\u001b[0;34m(\u001b[0m\u001b[0mconfig\u001b[0m\u001b[0;34m=\u001b[0m\u001b[0mconfig\u001b[0m\u001b[0;34m)\u001b[0m\u001b[0;34m\u001b[0m\u001b[0;34m\u001b[0m\u001b[0m\n\u001b[0m\u001b[1;32m    554\u001b[0m \u001b[0;34m\u001b[0m\u001b[0m\n\u001b[1;32m    555\u001b[0m         \u001b[0;32mwith\u001b[0m \u001b[0mtf\u001b[0m\u001b[0;34m.\u001b[0m\u001b[0mGraph\u001b[0m\u001b[0;34m(\u001b[0m\u001b[0;34m)\u001b[0m\u001b[0;34m.\u001b[0m\u001b[0mas_default\u001b[0m\u001b[0;34m(\u001b[0m\u001b[0;34m)\u001b[0m\u001b[0;34m,\u001b[0m \u001b[0msession\u001b[0m \u001b[0;32mas\u001b[0m \u001b[0msess\u001b[0m\u001b[0;34m:\u001b[0m\u001b[0;34m\u001b[0m\u001b[0;34m\u001b[0m\u001b[0m\n",
      "\u001b[0;32m~/Documents/Capsule_Nets_with_uncertainty/caps_vev/lib/python3.8/site-packages/tensorflow/python/client/session.py\u001b[0m in \u001b[0;36m__init__\u001b[0;34m(self, target, graph, config)\u001b[0m\n\u001b[1;32m   1594\u001b[0m           \u001b[0mprotocol\u001b[0m \u001b[0mbuffer\u001b[0m \u001b[0;32mwith\u001b[0m \u001b[0mconfiguration\u001b[0m \u001b[0moptions\u001b[0m \u001b[0;32mfor\u001b[0m \u001b[0mthe\u001b[0m \u001b[0msession\u001b[0m\u001b[0;34m.\u001b[0m\u001b[0;34m\u001b[0m\u001b[0;34m\u001b[0m\u001b[0m\n\u001b[1;32m   1595\u001b[0m     \"\"\"\n\u001b[0;32m-> 1596\u001b[0;31m     \u001b[0msuper\u001b[0m\u001b[0;34m(\u001b[0m\u001b[0mSession\u001b[0m\u001b[0;34m,\u001b[0m \u001b[0mself\u001b[0m\u001b[0;34m)\u001b[0m\u001b[0;34m.\u001b[0m\u001b[0m__init__\u001b[0m\u001b[0;34m(\u001b[0m\u001b[0mtarget\u001b[0m\u001b[0;34m,\u001b[0m \u001b[0mgraph\u001b[0m\u001b[0;34m,\u001b[0m \u001b[0mconfig\u001b[0m\u001b[0;34m=\u001b[0m\u001b[0mconfig\u001b[0m\u001b[0;34m)\u001b[0m\u001b[0;34m\u001b[0m\u001b[0;34m\u001b[0m\u001b[0m\n\u001b[0m\u001b[1;32m   1597\u001b[0m     \u001b[0;31m# NOTE(mrry): Create these on first `__enter__` to avoid a reference cycle.\u001b[0m\u001b[0;34m\u001b[0m\u001b[0;34m\u001b[0m\u001b[0;34m\u001b[0m\u001b[0m\n\u001b[1;32m   1598\u001b[0m     \u001b[0mself\u001b[0m\u001b[0;34m.\u001b[0m\u001b[0m_default_graph_context_manager\u001b[0m \u001b[0;34m=\u001b[0m \u001b[0;32mNone\u001b[0m\u001b[0;34m\u001b[0m\u001b[0;34m\u001b[0m\u001b[0m\n",
      "\u001b[0;32m~/Documents/Capsule_Nets_with_uncertainty/caps_vev/lib/python3.8/site-packages/tensorflow/python/client/session.py\u001b[0m in \u001b[0;36m__init__\u001b[0;34m(self, target, graph, config)\u001b[0m\n\u001b[1;32m    709\u001b[0m     \u001b[0;32mtry\u001b[0m\u001b[0;34m:\u001b[0m\u001b[0;34m\u001b[0m\u001b[0;34m\u001b[0m\u001b[0m\n\u001b[1;32m    710\u001b[0m       \u001b[0;31m# pylint: disable=protected-access\u001b[0m\u001b[0;34m\u001b[0m\u001b[0;34m\u001b[0m\u001b[0;34m\u001b[0m\u001b[0m\n\u001b[0;32m--> 711\u001b[0;31m       \u001b[0mself\u001b[0m\u001b[0;34m.\u001b[0m\u001b[0m_session\u001b[0m \u001b[0;34m=\u001b[0m \u001b[0mtf_session\u001b[0m\u001b[0;34m.\u001b[0m\u001b[0mTF_NewSessionRef\u001b[0m\u001b[0;34m(\u001b[0m\u001b[0mself\u001b[0m\u001b[0;34m.\u001b[0m\u001b[0m_graph\u001b[0m\u001b[0;34m.\u001b[0m\u001b[0m_c_graph\u001b[0m\u001b[0;34m,\u001b[0m \u001b[0mopts\u001b[0m\u001b[0;34m)\u001b[0m\u001b[0;34m\u001b[0m\u001b[0;34m\u001b[0m\u001b[0m\n\u001b[0m\u001b[1;32m    712\u001b[0m       \u001b[0;31m# pylint: enable=protected-access\u001b[0m\u001b[0;34m\u001b[0m\u001b[0;34m\u001b[0m\u001b[0;34m\u001b[0m\u001b[0m\n\u001b[1;32m    713\u001b[0m     \u001b[0;32mfinally\u001b[0m\u001b[0;34m:\u001b[0m\u001b[0;34m\u001b[0m\u001b[0;34m\u001b[0m\u001b[0m\n",
      "\u001b[0;31mInternalError\u001b[0m: CUDA runtime implicit initialization on GPU:0 failed. Status: out of memory"
     ]
    }
   ],
   "source": [
    "from ai_benchmark import AIBenchmark\n",
    "benchmark = AIBenchmark()\n",
    "results = benchmark.run()"
   ]
  },
  {
   "cell_type": "markdown",
   "id": "neither-semester",
   "metadata": {},
   "source": [
    "Device Inference Score: 12158\n",
    "Device Training Score: 12309\n",
    "Device AI Score: 24467"
   ]
  }
 ],
 "metadata": {
  "kernelspec": {
   "display_name": "Python 3",
   "language": "python",
   "name": "python3"
  },
  "language_info": {
   "codemirror_mode": {
    "name": "ipython",
    "version": 3
   },
   "file_extension": ".py",
   "mimetype": "text/x-python",
   "name": "python",
   "nbconvert_exporter": "python",
   "pygments_lexer": "ipython3",
   "version": "3.8.10"
  }
 },
 "nbformat": 4,
 "nbformat_minor": 5
}
